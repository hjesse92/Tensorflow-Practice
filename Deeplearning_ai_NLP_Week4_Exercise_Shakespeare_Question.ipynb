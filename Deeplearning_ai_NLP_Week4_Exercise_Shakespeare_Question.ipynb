{
  "nbformat": 4,
  "nbformat_minor": 0,
  "metadata": {
    "accelerator": "GPU",
    "colab": {
      "name": "Deeplearning.ai - NLP_Week4_Exercise_Shakespeare_Question.ipynb",
      "provenance": [],
      "toc_visible": true,
      "include_colab_link": true
    },
    "kernelspec": {
      "display_name": "Python 3",
      "name": "python3"
    }
  },
  "cells": [
    {
      "cell_type": "markdown",
      "metadata": {
        "id": "view-in-github",
        "colab_type": "text"
      },
      "source": [
        "<a href=\"https://colab.research.google.com/github/hjesse92/Tensorflow-Practice/blob/main/Deeplearning_ai_NLP_Week4_Exercise_Shakespeare_Question.ipynb\" target=\"_parent\"><img src=\"https://colab.research.google.com/assets/colab-badge.svg\" alt=\"Open In Colab\"/></a>"
      ]
    },
    {
      "cell_type": "code",
      "metadata": {
        "id": "zX4Kg8DUTKWO"
      },
      "source": [
        "#@title Licensed under the Apache License, Version 2.0 (the \"License\");\n",
        "# you may not use this file except in compliance with the License.\n",
        "# You may obtain a copy of the License at\n",
        "#\n",
        "# https://www.apache.org/licenses/LICENSE-2.0\n",
        "#\n",
        "# Unless required by applicable law or agreed to in writing, software\n",
        "# distributed under the License is distributed on an \"AS IS\" BASIS,\n",
        "# WITHOUT WARRANTIES OR CONDITIONS OF ANY KIND, either express or implied.\n",
        "# See the License for the specific language governing permissions and\n",
        "# limitations under the License."
      ],
      "execution_count": null,
      "outputs": []
    },
    {
      "cell_type": "code",
      "metadata": {
        "id": "BOwsuGQQY9OL"
      },
      "source": [
        "from tensorflow.keras.preprocessing.sequence import pad_sequences\n",
        "from tensorflow.keras.layers import Embedding, LSTM, Dense, Dropout, Bidirectional\n",
        "from tensorflow.keras.preprocessing.text import Tokenizer\n",
        "from tensorflow.keras.models import Sequential\n",
        "from tensorflow.keras.optimizers import Adam\n",
        "from tensorflow.keras.callbacks import EarlyStopping\n",
        "### YOUR CODE HERE\n",
        "# Figure out how to import regularizers\n",
        "###\n",
        "import tensorflow.keras.utils as ku \n",
        "import numpy as np "
      ],
      "execution_count": 9,
      "outputs": []
    },
    {
      "cell_type": "code",
      "metadata": {
        "id": "PRnDnCW-Z7qv",
        "outputId": "452f7834-b65d-47ea-d6ab-c85c54f193ad",
        "colab": {
          "base_uri": "https://localhost:8080/"
        }
      },
      "source": [
        "tokenizer = Tokenizer()\n",
        "!wget --no-check-certificate \\\n",
        "    https://storage.googleapis.com/laurencemoroney-blog.appspot.com/sonnets.txt \\\n",
        "    -O /tmp/sonnets.txt\n",
        "data = open('/tmp/sonnets.txt').read()\n",
        "\n",
        "corpus = data.lower().split(\"\\n\")\n",
        "\n",
        "\n",
        "tokenizer.fit_on_texts(corpus)\n",
        "total_words = len(tokenizer.word_index) + 1\n",
        "\n",
        "# create input sequences using list of tokens\n",
        "input_sequences = []\n",
        "for line in corpus:\n",
        "\ttoken_list = tokenizer.texts_to_sequences([line])[0]\n",
        "\tfor i in range(1, len(token_list)):\n",
        "\t\tn_gram_sequence = token_list[:i+1]\n",
        "\t\tinput_sequences.append(n_gram_sequence)\n",
        "\n",
        "\n",
        "# pad sequences \n",
        "max_sequence_len = max([len(x) for x in input_sequences])\n",
        "input_sequences = np.array(pad_sequences(input_sequences, maxlen=max_sequence_len, padding='pre'))\n",
        "\n",
        "# create predictors and label\n",
        "predictors, label = input_sequences[:,:-1],input_sequences[:,-1]\n",
        "\n",
        "label = ku.to_categorical(label, num_classes=total_words)"
      ],
      "execution_count": 2,
      "outputs": [
        {
          "output_type": "stream",
          "text": [
            "--2020-11-07 02:41:54--  https://storage.googleapis.com/laurencemoroney-blog.appspot.com/sonnets.txt\n",
            "Resolving storage.googleapis.com (storage.googleapis.com)... 172.217.15.112, 172.217.2.112, 172.217.164.144, ...\n",
            "Connecting to storage.googleapis.com (storage.googleapis.com)|172.217.15.112|:443... connected.\n",
            "HTTP request sent, awaiting response... 200 OK\n",
            "Length: 93578 (91K) [text/plain]\n",
            "Saving to: ‘/tmp/sonnets.txt’\n",
            "\n",
            "\r/tmp/sonnets.txt      0%[                    ]       0  --.-KB/s               \r/tmp/sonnets.txt    100%[===================>]  91.38K  --.-KB/s    in 0.001s  \n",
            "\n",
            "2020-11-07 02:41:54 (75.0 MB/s) - ‘/tmp/sonnets.txt’ saved [93578/93578]\n",
            "\n"
          ],
          "name": "stdout"
        }
      ]
    },
    {
      "cell_type": "code",
      "metadata": {
        "id": "JpVNvSdwlkFV",
        "outputId": "b8ac3008-e43e-4e32-9987-b5f6fe82c6d0",
        "colab": {
          "base_uri": "https://localhost:8080/"
        }
      },
      "source": [
        "max_sequence_len"
      ],
      "execution_count": 7,
      "outputs": [
        {
          "output_type": "execute_result",
          "data": {
            "text/plain": [
              "11"
            ]
          },
          "metadata": {
            "tags": []
          },
          "execution_count": 7
        }
      ]
    },
    {
      "cell_type": "code",
      "metadata": {
        "id": "w9vH8Y59ajYL",
        "outputId": "b02554a8-e5e7-4e9b-f92f-843fcb6d1821",
        "colab": {
          "base_uri": "https://localhost:8080/"
        }
      },
      "source": [
        "model = Sequential()\n",
        "model.add(Embedding(total_words, 500, input_length=max_sequence_len-1))\n",
        "model.add(Bidirectional(LSTM(100, return_sequences=True)))\n",
        "model.add(Dropout(0.1))\n",
        "model.add(LSTM(100))\n",
        "model.add(Dense(256, activation='relu', kernel_regularizer='l2'))\n",
        "model.add(Dense(total_words, activation='softmax'))\n",
        "# Pick an optimizer\n",
        "es = EarlyStopping(monitor='loss', patience=5, restore_best_weights=True)\n",
        "model.compile(loss='categorical_crossentropy',optimizer='adam', metrics=['acc'])\n",
        "print(model.summary())\n"
      ],
      "execution_count": 19,
      "outputs": [
        {
          "output_type": "stream",
          "text": [
            "Model: \"sequential_4\"\n",
            "_________________________________________________________________\n",
            "Layer (type)                 Output Shape              Param #   \n",
            "=================================================================\n",
            "embedding_4 (Embedding)      (None, 10, 500)           1605500   \n",
            "_________________________________________________________________\n",
            "bidirectional_4 (Bidirection (None, 10, 200)           480800    \n",
            "_________________________________________________________________\n",
            "dropout_4 (Dropout)          (None, 10, 200)           0         \n",
            "_________________________________________________________________\n",
            "lstm_9 (LSTM)                (None, 100)               120400    \n",
            "_________________________________________________________________\n",
            "dense_8 (Dense)              (None, 256)               25856     \n",
            "_________________________________________________________________\n",
            "dense_9 (Dense)              (None, 3211)              825227    \n",
            "=================================================================\n",
            "Total params: 3,057,783\n",
            "Trainable params: 3,057,783\n",
            "Non-trainable params: 0\n",
            "_________________________________________________________________\n",
            "None\n"
          ],
          "name": "stdout"
        }
      ]
    },
    {
      "cell_type": "code",
      "metadata": {
        "id": "AIg2f1HBxqof",
        "outputId": "b8d94226-9bc4-49ac-d756-56a79c7e9186",
        "colab": {
          "base_uri": "https://localhost:8080/"
        }
      },
      "source": [
        " history = model.fit(predictors, label, validation_split=0.1, epochs=100, callbacks=[es], verbose=1)"
      ],
      "execution_count": 20,
      "outputs": [
        {
          "output_type": "stream",
          "text": [
            "Epoch 1/100\n",
            "435/435 [==============================] - 10s 24ms/step - loss: 7.0404 - acc: 0.0223 - val_loss: 6.7645 - val_acc: 0.0123\n",
            "Epoch 2/100\n",
            "435/435 [==============================] - 10s 22ms/step - loss: 6.4901 - acc: 0.0231 - val_loss: 6.9306 - val_acc: 0.0220\n",
            "Epoch 3/100\n",
            "435/435 [==============================] - 9s 22ms/step - loss: 6.3871 - acc: 0.0264 - val_loss: 7.0396 - val_acc: 0.0200\n",
            "Epoch 4/100\n",
            "435/435 [==============================] - 9s 21ms/step - loss: 6.2769 - acc: 0.0333 - val_loss: 7.1462 - val_acc: 0.0246\n",
            "Epoch 5/100\n",
            "435/435 [==============================] - 9s 21ms/step - loss: 6.1681 - acc: 0.0367 - val_loss: 7.1627 - val_acc: 0.0233\n",
            "Epoch 6/100\n",
            "435/435 [==============================] - 9s 22ms/step - loss: 6.0748 - acc: 0.0390 - val_loss: 7.4150 - val_acc: 0.0394\n",
            "Epoch 7/100\n",
            "435/435 [==============================] - 9s 21ms/step - loss: 5.9926 - acc: 0.0419 - val_loss: 7.4632 - val_acc: 0.0252\n",
            "Epoch 8/100\n",
            "435/435 [==============================] - 9s 21ms/step - loss: 5.9089 - acc: 0.0457 - val_loss: 7.6087 - val_acc: 0.0349\n",
            "Epoch 9/100\n",
            "435/435 [==============================] - 9s 22ms/step - loss: 5.8205 - acc: 0.0493 - val_loss: 7.8549 - val_acc: 0.0265\n",
            "Epoch 10/100\n",
            "435/435 [==============================] - 9s 21ms/step - loss: 5.7389 - acc: 0.0526 - val_loss: 7.9986 - val_acc: 0.0284\n",
            "Epoch 11/100\n",
            "435/435 [==============================] - 9s 21ms/step - loss: 5.6541 - acc: 0.0579 - val_loss: 8.1032 - val_acc: 0.0317\n",
            "Epoch 12/100\n",
            "435/435 [==============================] - 9s 21ms/step - loss: 5.5748 - acc: 0.0622 - val_loss: 8.3009 - val_acc: 0.0284\n",
            "Epoch 13/100\n",
            "435/435 [==============================] - 10s 22ms/step - loss: 5.4929 - acc: 0.0660 - val_loss: 8.5138 - val_acc: 0.0381\n",
            "Epoch 14/100\n",
            "435/435 [==============================] - 9s 21ms/step - loss: 5.4110 - acc: 0.0727 - val_loss: 8.6634 - val_acc: 0.0304\n",
            "Epoch 15/100\n",
            "435/435 [==============================] - 9s 21ms/step - loss: 5.3281 - acc: 0.0770 - val_loss: 9.0142 - val_acc: 0.0317\n",
            "Epoch 16/100\n",
            "435/435 [==============================] - 9s 22ms/step - loss: 5.2462 - acc: 0.0830 - val_loss: 9.0905 - val_acc: 0.0362\n",
            "Epoch 17/100\n",
            "435/435 [==============================] - 9s 21ms/step - loss: 5.1528 - acc: 0.0962 - val_loss: 9.3591 - val_acc: 0.0349\n",
            "Epoch 18/100\n",
            "435/435 [==============================] - 9s 21ms/step - loss: 5.0689 - acc: 0.1015 - val_loss: 9.6699 - val_acc: 0.0310\n",
            "Epoch 19/100\n",
            "435/435 [==============================] - 9s 21ms/step - loss: 4.9807 - acc: 0.1112 - val_loss: 9.9312 - val_acc: 0.0368\n",
            "Epoch 20/100\n",
            "435/435 [==============================] - 9s 21ms/step - loss: 4.8868 - acc: 0.1200 - val_loss: 10.2717 - val_acc: 0.0323\n",
            "Epoch 21/100\n",
            "435/435 [==============================] - 9s 21ms/step - loss: 4.7996 - acc: 0.1301 - val_loss: 10.4219 - val_acc: 0.0349\n",
            "Epoch 22/100\n",
            "435/435 [==============================] - 9s 21ms/step - loss: 4.7174 - acc: 0.1417 - val_loss: 10.7787 - val_acc: 0.0330\n",
            "Epoch 23/100\n",
            "435/435 [==============================] - 9s 21ms/step - loss: 4.6248 - acc: 0.1500 - val_loss: 10.9413 - val_acc: 0.0349\n",
            "Epoch 24/100\n",
            "435/435 [==============================] - 9s 21ms/step - loss: 4.5463 - acc: 0.1580 - val_loss: 11.4911 - val_acc: 0.0278\n",
            "Epoch 25/100\n",
            "435/435 [==============================] - 9s 21ms/step - loss: 4.4551 - acc: 0.1729 - val_loss: 11.8331 - val_acc: 0.0304\n",
            "Epoch 26/100\n",
            "435/435 [==============================] - 9s 21ms/step - loss: 4.3724 - acc: 0.1807 - val_loss: 12.1063 - val_acc: 0.0330\n",
            "Epoch 27/100\n",
            "435/435 [==============================] - 9s 21ms/step - loss: 4.2813 - acc: 0.1968 - val_loss: 12.4625 - val_acc: 0.0323\n",
            "Epoch 28/100\n",
            "435/435 [==============================] - 9s 21ms/step - loss: 4.2060 - acc: 0.2021 - val_loss: 12.6564 - val_acc: 0.0310\n",
            "Epoch 29/100\n",
            "435/435 [==============================] - 9s 20ms/step - loss: 4.1195 - acc: 0.2171 - val_loss: 13.3129 - val_acc: 0.0356\n",
            "Epoch 30/100\n",
            "435/435 [==============================] - 9s 21ms/step - loss: 4.0404 - acc: 0.2261 - val_loss: 13.6176 - val_acc: 0.0271\n",
            "Epoch 31/100\n",
            "435/435 [==============================] - 9s 20ms/step - loss: 3.9546 - acc: 0.2392 - val_loss: 14.2892 - val_acc: 0.0252\n",
            "Epoch 32/100\n",
            "435/435 [==============================] - 9s 21ms/step - loss: 3.8806 - acc: 0.2476 - val_loss: 14.7539 - val_acc: 0.0317\n",
            "Epoch 33/100\n",
            "435/435 [==============================] - 9s 20ms/step - loss: 3.8034 - acc: 0.2613 - val_loss: 14.7661 - val_acc: 0.0317\n",
            "Epoch 34/100\n",
            "435/435 [==============================] - 9s 21ms/step - loss: 3.7236 - acc: 0.2777 - val_loss: 15.3382 - val_acc: 0.0330\n",
            "Epoch 35/100\n",
            "435/435 [==============================] - 9s 20ms/step - loss: 3.6524 - acc: 0.2883 - val_loss: 15.5371 - val_acc: 0.0271\n",
            "Epoch 36/100\n",
            "435/435 [==============================] - 9s 20ms/step - loss: 3.5832 - acc: 0.2996 - val_loss: 16.0636 - val_acc: 0.0278\n",
            "Epoch 37/100\n",
            "435/435 [==============================] - 9s 20ms/step - loss: 3.5130 - acc: 0.3138 - val_loss: 16.3528 - val_acc: 0.0362\n",
            "Epoch 38/100\n",
            "435/435 [==============================] - 9s 20ms/step - loss: 3.4290 - acc: 0.3280 - val_loss: 16.9192 - val_acc: 0.0323\n",
            "Epoch 39/100\n",
            "435/435 [==============================] - 9s 21ms/step - loss: 3.3627 - acc: 0.3397 - val_loss: 17.5414 - val_acc: 0.0343\n",
            "Epoch 40/100\n",
            "435/435 [==============================] - 9s 20ms/step - loss: 3.3029 - acc: 0.3552 - val_loss: 17.3825 - val_acc: 0.0310\n",
            "Epoch 41/100\n",
            "435/435 [==============================] - 9s 20ms/step - loss: 3.2351 - acc: 0.3649 - val_loss: 18.1399 - val_acc: 0.0278\n",
            "Epoch 42/100\n",
            "435/435 [==============================] - 9s 21ms/step - loss: 3.1732 - acc: 0.3725 - val_loss: 18.2462 - val_acc: 0.0310\n",
            "Epoch 43/100\n",
            "435/435 [==============================] - 9s 21ms/step - loss: 3.1068 - acc: 0.3921 - val_loss: 18.8332 - val_acc: 0.0330\n",
            "Epoch 44/100\n",
            "435/435 [==============================] - 9s 20ms/step - loss: 3.0489 - acc: 0.4022 - val_loss: 19.0822 - val_acc: 0.0304\n",
            "Epoch 45/100\n",
            "435/435 [==============================] - 9s 21ms/step - loss: 2.9893 - acc: 0.4198 - val_loss: 19.4956 - val_acc: 0.0343\n",
            "Epoch 46/100\n",
            "435/435 [==============================] - 9s 21ms/step - loss: 2.9297 - acc: 0.4275 - val_loss: 19.3329 - val_acc: 0.0304\n",
            "Epoch 47/100\n",
            "435/435 [==============================] - 10s 22ms/step - loss: 2.8765 - acc: 0.4402 - val_loss: 20.0001 - val_acc: 0.0297\n",
            "Epoch 48/100\n",
            "435/435 [==============================] - 9s 21ms/step - loss: 2.8243 - acc: 0.4543 - val_loss: 20.1679 - val_acc: 0.0265\n",
            "Epoch 49/100\n",
            "435/435 [==============================] - 9s 20ms/step - loss: 2.7793 - acc: 0.4663 - val_loss: 20.3000 - val_acc: 0.0304\n",
            "Epoch 50/100\n",
            "435/435 [==============================] - 9s 21ms/step - loss: 2.7201 - acc: 0.4803 - val_loss: 20.6759 - val_acc: 0.0310\n",
            "Epoch 51/100\n",
            "435/435 [==============================] - 9s 21ms/step - loss: 2.6733 - acc: 0.4913 - val_loss: 20.9297 - val_acc: 0.0297\n",
            "Epoch 52/100\n",
            "435/435 [==============================] - 9s 21ms/step - loss: 2.6213 - acc: 0.5057 - val_loss: 21.1675 - val_acc: 0.0271\n",
            "Epoch 53/100\n",
            "435/435 [==============================] - 9s 20ms/step - loss: 2.5725 - acc: 0.5157 - val_loss: 21.1573 - val_acc: 0.0233\n",
            "Epoch 54/100\n",
            "435/435 [==============================] - 9s 21ms/step - loss: 2.5236 - acc: 0.5258 - val_loss: 21.8082 - val_acc: 0.0246\n",
            "Epoch 55/100\n",
            "435/435 [==============================] - 9s 21ms/step - loss: 2.4840 - acc: 0.5366 - val_loss: 21.6151 - val_acc: 0.0336\n",
            "Epoch 56/100\n",
            "435/435 [==============================] - 9s 21ms/step - loss: 2.4352 - acc: 0.5436 - val_loss: 21.9982 - val_acc: 0.0317\n",
            "Epoch 57/100\n",
            "435/435 [==============================] - 9s 20ms/step - loss: 2.3966 - acc: 0.5557 - val_loss: 22.1489 - val_acc: 0.0291\n",
            "Epoch 58/100\n",
            "435/435 [==============================] - 9s 21ms/step - loss: 2.3620 - acc: 0.5644 - val_loss: 22.2829 - val_acc: 0.0265\n",
            "Epoch 59/100\n",
            "435/435 [==============================] - 9s 20ms/step - loss: 2.3131 - acc: 0.5726 - val_loss: 22.1181 - val_acc: 0.0278\n",
            "Epoch 60/100\n",
            "435/435 [==============================] - 9s 21ms/step - loss: 2.2853 - acc: 0.5807 - val_loss: 22.6862 - val_acc: 0.0259\n",
            "Epoch 61/100\n",
            "435/435 [==============================] - 9s 21ms/step - loss: 2.2349 - acc: 0.5953 - val_loss: 22.7914 - val_acc: 0.0233\n",
            "Epoch 62/100\n",
            "435/435 [==============================] - 9s 21ms/step - loss: 2.2039 - acc: 0.6045 - val_loss: 22.6700 - val_acc: 0.0336\n",
            "Epoch 63/100\n",
            "435/435 [==============================] - 9s 21ms/step - loss: 2.1661 - acc: 0.6092 - val_loss: 22.9328 - val_acc: 0.0220\n",
            "Epoch 64/100\n",
            "435/435 [==============================] - 9s 21ms/step - loss: 2.1391 - acc: 0.6140 - val_loss: 23.2290 - val_acc: 0.0310\n",
            "Epoch 65/100\n",
            "435/435 [==============================] - 9s 21ms/step - loss: 2.1006 - acc: 0.6298 - val_loss: 23.4114 - val_acc: 0.0271\n",
            "Epoch 66/100\n",
            "435/435 [==============================] - 9s 21ms/step - loss: 2.0615 - acc: 0.6347 - val_loss: 23.3002 - val_acc: 0.0252\n",
            "Epoch 67/100\n",
            "435/435 [==============================] - 9s 21ms/step - loss: 2.0381 - acc: 0.6409 - val_loss: 23.6369 - val_acc: 0.0278\n",
            "Epoch 68/100\n",
            "435/435 [==============================] - 9s 21ms/step - loss: 2.0006 - acc: 0.6491 - val_loss: 23.5861 - val_acc: 0.0259\n",
            "Epoch 69/100\n",
            "435/435 [==============================] - 9s 21ms/step - loss: 1.9781 - acc: 0.6518 - val_loss: 23.4754 - val_acc: 0.0259\n",
            "Epoch 70/100\n",
            "435/435 [==============================] - 9s 21ms/step - loss: 1.9432 - acc: 0.6589 - val_loss: 23.7177 - val_acc: 0.0226\n",
            "Epoch 71/100\n",
            "435/435 [==============================] - 9s 21ms/step - loss: 1.9040 - acc: 0.6715 - val_loss: 23.6656 - val_acc: 0.0330\n",
            "Epoch 72/100\n",
            "435/435 [==============================] - 9s 21ms/step - loss: 1.8799 - acc: 0.6756 - val_loss: 23.7802 - val_acc: 0.0265\n",
            "Epoch 73/100\n",
            "435/435 [==============================] - 9s 21ms/step - loss: 1.8499 - acc: 0.6857 - val_loss: 24.1399 - val_acc: 0.0304\n",
            "Epoch 74/100\n",
            "435/435 [==============================] - 9s 21ms/step - loss: 1.8270 - acc: 0.6881 - val_loss: 24.1261 - val_acc: 0.0259\n",
            "Epoch 75/100\n",
            "435/435 [==============================] - 9s 21ms/step - loss: 1.8027 - acc: 0.6936 - val_loss: 23.9032 - val_acc: 0.0310\n",
            "Epoch 76/100\n",
            "435/435 [==============================] - 9s 21ms/step - loss: 1.7668 - acc: 0.7018 - val_loss: 24.0717 - val_acc: 0.0297\n",
            "Epoch 77/100\n",
            "435/435 [==============================] - 9s 21ms/step - loss: 1.7537 - acc: 0.7063 - val_loss: 23.8348 - val_acc: 0.0259\n",
            "Epoch 78/100\n",
            "435/435 [==============================] - 9s 21ms/step - loss: 1.7411 - acc: 0.7040 - val_loss: 23.8847 - val_acc: 0.0278\n",
            "Epoch 79/100\n",
            "435/435 [==============================] - 9s 21ms/step - loss: 1.7176 - acc: 0.7094 - val_loss: 24.0999 - val_acc: 0.0310\n",
            "Epoch 80/100\n",
            "435/435 [==============================] - 9s 21ms/step - loss: 1.6831 - acc: 0.7200 - val_loss: 23.9236 - val_acc: 0.0284\n",
            "Epoch 81/100\n",
            "435/435 [==============================] - 9s 21ms/step - loss: 1.6670 - acc: 0.7202 - val_loss: 24.0989 - val_acc: 0.0252\n",
            "Epoch 82/100\n",
            "435/435 [==============================] - 10s 22ms/step - loss: 1.6511 - acc: 0.7208 - val_loss: 24.4505 - val_acc: 0.0323\n",
            "Epoch 83/100\n",
            "435/435 [==============================] - 9s 20ms/step - loss: 1.6191 - acc: 0.7324 - val_loss: 24.3677 - val_acc: 0.0284\n",
            "Epoch 84/100\n",
            "435/435 [==============================] - 9s 21ms/step - loss: 1.5901 - acc: 0.7382 - val_loss: 24.1395 - val_acc: 0.0271\n",
            "Epoch 85/100\n",
            "435/435 [==============================] - 9s 21ms/step - loss: 1.5831 - acc: 0.7409 - val_loss: 24.2633 - val_acc: 0.0246\n",
            "Epoch 86/100\n",
            "435/435 [==============================] - 9s 21ms/step - loss: 1.5612 - acc: 0.7385 - val_loss: 24.5017 - val_acc: 0.0304\n",
            "Epoch 87/100\n",
            "435/435 [==============================] - 9s 21ms/step - loss: 1.5507 - acc: 0.7425 - val_loss: 24.1243 - val_acc: 0.0271\n",
            "Epoch 88/100\n",
            "435/435 [==============================] - 9s 21ms/step - loss: 1.5355 - acc: 0.7444 - val_loss: 24.0544 - val_acc: 0.0259\n",
            "Epoch 89/100\n",
            "435/435 [==============================] - 9s 21ms/step - loss: 1.5037 - acc: 0.7542 - val_loss: 24.2246 - val_acc: 0.0252\n",
            "Epoch 90/100\n",
            "435/435 [==============================] - 9s 21ms/step - loss: 1.4958 - acc: 0.7544 - val_loss: 24.3590 - val_acc: 0.0259\n",
            "Epoch 91/100\n",
            "435/435 [==============================] - 9s 20ms/step - loss: 1.4753 - acc: 0.7572 - val_loss: 24.4853 - val_acc: 0.0304\n",
            "Epoch 92/100\n",
            "435/435 [==============================] - 9s 20ms/step - loss: 1.4588 - acc: 0.7591 - val_loss: 24.3587 - val_acc: 0.0271\n",
            "Epoch 93/100\n",
            "435/435 [==============================] - 9s 21ms/step - loss: 1.4382 - acc: 0.7674 - val_loss: 24.1950 - val_acc: 0.0252\n",
            "Epoch 94/100\n",
            "435/435 [==============================] - 9s 20ms/step - loss: 1.4227 - acc: 0.7689 - val_loss: 24.4670 - val_acc: 0.0297\n",
            "Epoch 95/100\n",
            "435/435 [==============================] - 9s 21ms/step - loss: 1.4140 - acc: 0.7700 - val_loss: 24.1403 - val_acc: 0.0297\n",
            "Epoch 96/100\n",
            "435/435 [==============================] - 9s 21ms/step - loss: 1.3945 - acc: 0.7746 - val_loss: 24.3626 - val_acc: 0.0239\n",
            "Epoch 97/100\n",
            "435/435 [==============================] - 9s 21ms/step - loss: 1.3887 - acc: 0.7707 - val_loss: 24.2011 - val_acc: 0.0259\n",
            "Epoch 98/100\n",
            "435/435 [==============================] - 9s 21ms/step - loss: 1.3709 - acc: 0.7769 - val_loss: 24.1699 - val_acc: 0.0252\n",
            "Epoch 99/100\n",
            "435/435 [==============================] - 9s 21ms/step - loss: 1.3529 - acc: 0.7774 - val_loss: 24.4025 - val_acc: 0.0226\n",
            "Epoch 100/100\n",
            "435/435 [==============================] - 9s 21ms/step - loss: 1.3369 - acc: 0.7821 - val_loss: 24.4796 - val_acc: 0.0259\n"
          ],
          "name": "stdout"
        }
      ]
    },
    {
      "cell_type": "code",
      "metadata": {
        "id": "1fXTEO3GJ282",
        "outputId": "0a78fda8-c1a6-4b41-9317-e7409a668398",
        "colab": {
          "base_uri": "https://localhost:8080/",
          "height": 545
        }
      },
      "source": [
        "import matplotlib.pyplot as plt\n",
        "acc = history.history['acc']\n",
        "loss = history.history['loss']\n",
        "\n",
        "epochs = range(len(acc))\n",
        "\n",
        "plt.plot(epochs, acc, 'b', label='Training accuracy')\n",
        "plt.title('Training accuracy')\n",
        "\n",
        "plt.figure()\n",
        "\n",
        "plt.plot(epochs, loss, 'b', label='Training Loss')\n",
        "plt.title('Training loss')\n",
        "plt.legend()\n",
        "\n",
        "plt.show()"
      ],
      "execution_count": 21,
      "outputs": [
        {
          "output_type": "display_data",
          "data": {
            "image/png": "[encoded data removed]",
            "text/plain": [
              "<Figure size 432x288 with 1 Axes>"
            ]
          },
          "metadata": {
            "tags": [],
            "needs_background": "light"
          }
        },
        {
          "output_type": "display_data",
          "data": {
            "image/png": "[encoded data removed]",
            "text/plain": [
              "<Figure size 432x288 with 1 Axes>"
            ]
          },
          "metadata": {
            "tags": [],
            "needs_background": "light"
          }
        }
      ]
    },
    {
      "cell_type": "code",
      "metadata": {
        "id": "6Vc6PHgxa6Hm",
        "outputId": "c97bec27-b359-4870-8c14-a61af2d7bf76",
        "colab": {
          "base_uri": "https://localhost:8080/"
        }
      },
      "source": [
        "seed_text = \"Help me Obi Wan Kenobi, you're my only hope\"\n",
        "next_words = 100\n",
        "  \n",
        "for _ in range(next_words):\n",
        "\ttoken_list = tokenizer.texts_to_sequences([seed_text])[0]\n",
        "\ttoken_list = pad_sequences([token_list], maxlen=max_sequence_len-1, padding='pre')\n",
        "\tpredicted = np.argmax(model.predict(token_list, verbose=0))\n",
        "\toutput_word = \"\"\n",
        "\tfor word, index in tokenizer.word_index.items():\n",
        "\t\tif index == predicted:\n",
        "\t\t\toutput_word = word\n",
        "\t\t\tbreak\n",
        "\tseed_text += \" \" + output_word\n",
        "print(seed_text)"
      ],
      "execution_count": 35,
      "outputs": [
        {
          "output_type": "stream",
          "text": [
            "Help me Obi Wan Kenobi, you're my only hope to me vile hate ' exceed fled fled sought ranged dun dun fire is growth to take of eye of one spent light grow use they large deem'd deceive deceive show me mine eyes she you no end see well suppress'd lend changing power his form had well sheds decay go place that i could not bright bright deeds of thee knowing me life belongs to rest wind smells fire doth speak of you pattern of all vile kind doth invent miss'd deceive ride sight doth kept fill their dearest ill night to die be stand gain from me doth\n"
          ],
          "name": "stdout"
        }
      ]
    },
    {
      "cell_type": "code",
      "metadata": {
        "id": "BQjIj_QBm6yC"
      },
      "source": [
        "import pprint\n",
        "pp = pprint.PrettyPrinter(indent=4)"
      ],
      "execution_count": 36,
      "outputs": []
    },
    {
      "cell_type": "code",
      "metadata": {
        "id": "yy3iCuV7ri-Q",
        "outputId": "25827975-4d53-46ad-f729-7a43e5740afe",
        "colab": {
          "base_uri": "https://localhost:8080/"
        }
      },
      "source": [
        "pp.pprint(seed_text)"
      ],
      "execution_count": 37,
      "outputs": [
        {
          "output_type": "stream",
          "text": [
            "(\"Help me Obi Wan Kenobi, you're my only hope to me vile hate ' exceed fled \"\n",
            " 'fled sought ranged dun dun fire is growth to take of eye of one spent light '\n",
            " \"grow use they large deem'd deceive deceive show me mine eyes she you no end \"\n",
            " \"see well suppress'd lend changing power his form had well sheds decay go \"\n",
            " 'place that i could not bright bright deeds of thee knowing me life belongs '\n",
            " 'to rest wind smells fire doth speak of you pattern of all vile kind doth '\n",
            " \"invent miss'd deceive ride sight doth kept fill their dearest ill night to \"\n",
            " 'die be stand gain from me doth')\n"
          ],
          "name": "stdout"
        }
      ]
    },
    {
      "cell_type": "code",
      "metadata": {
        "id": "PCT_HlvXrjmQ"
      },
      "source": [
        ""
      ],
      "execution_count": null,
      "outputs": []
    }
  ]
}